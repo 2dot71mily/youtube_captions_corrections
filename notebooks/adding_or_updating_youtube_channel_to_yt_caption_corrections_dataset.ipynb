{
  "nbformat": 4,
  "nbformat_minor": 0,
  "metadata": {
    "colab": {
      "name": "adding_or_updating_youtube_channel_to_yt_caption_corrections_dataset",
      "provenance": [],
      "collapsed_sections": [],
      "authorship_tag": "ABX9TyMuOMCRPUN/GHnFMxXrbmR2",
      "include_colab_link": true
    },
    "kernelspec": {
      "name": "python3",
      "display_name": "Python 3"
    },
    "language_info": {
      "name": "python"
    }
  },
  "cells": [
    {
      "cell_type": "markdown",
      "metadata": {
        "id": "view-in-github",
        "colab_type": "text"
      },
      "source": [
        "<a href=\"https://colab.research.google.com/github/2dot71mily/youtube_captions_corrections/blob/main/notebooks/adding_or_updating_youtube_channel_to_yt_caption_corrections_dataset.ipynb\" target=\"_parent\"><img src=\"https://colab.research.google.com/assets/colab-badge.svg\" alt=\"Open In Colab\"/></a>"
      ]
    },
    {
      "cell_type": "code",
      "metadata": {
        "id": "Ul1d45bLqYWx"
      },
      "source": [
        "%%capture\n",
        "!git clone https://github.com/2dot71mily/youtube_captions_corrections.git\n",
        "!pip install youtube_transcript_api\n",
        "!pip install google-api-python-client"
      ],
      "execution_count": null,
      "outputs": []
    },
    {
      "cell_type": "markdown",
      "source": [
        "After you cloned the repo, open up the folder icon on the left hand bar and double click on `youtube_caption_corrections/src/config.py` on files right side bar and modify config file similar to below on right side bar. \n",
        "\n",
        "You can get the YouTube API key from [here](https://developers.google.com/youtube/v3/getting-started).\n",
        "\n",
        "If there are new transcripts for playlist videos both with auto-generated and content-creator captions, they will be added as can see is the case below for Hugging Face channel.\n",
        "\n",
        "![](https://drive.google.com/uc?export=view&id=13V8t6k-8CUgW5HkMlQJpo06TM3N53LsB)\n"
      ],
      "metadata": {
        "id": "pzIxN8wm1pmL"
      }
    },
    {
      "cell_type": "code",
      "metadata": {
        "id": "KzIeIXZSs1RX",
        "colab": {
          "base_uri": "https://localhost:8080/"
        },
        "outputId": "c5413e82-ba54-481f-a1a5-a51425ec4ebe"
      },
      "source": [
        "!ls youtube_captions_corrections/data/transcripts/en/labeled_transcripts\n"
      ],
      "execution_count": null,
      "outputs": [
        {
          "output_type": "stream",
          "name": "stdout",
          "text": [
            " 3Blue1Brown.json\t Jeremy_Howard.json   Pieter_Abbeel.json\n",
            " Alfredo_Canziani.json\t Luis_Serrano.json    TED.json\n",
            " Aurélien_Géron.json\t minutephysics.json   Veritasium.json\n",
            " DeepMind.json\t\t nature_video.json   'Weights_&_Biases.json'\n"
          ]
        }
      ]
    },
    {
      "cell_type": "code",
      "metadata": {
        "colab": {
          "base_uri": "https://localhost:8080/"
        },
        "id": "UnBPBGD-qb6r",
        "outputId": "2a3031bc-65f9-4bab-e847-d23c2b6ef22b"
      },
      "source": [
        "!python youtube_captions_corrections/src/prepare_data.py"
      ],
      "execution_count": null,
      "outputs": [
        {
          "output_type": "stream",
          "name": "stdout",
          "text": [
            "requesting data for youtube_captions_corrections/data/transcripts/en/raw_transcripts/Hugging_Face.json\n",
            "requesting data for youtube_captions_corrections/data/channels/Hugging_Face.json\n",
            "\n",
            "        If below requested channel is correct:\n",
            "        https://www.youtube.com/channel/UCHlNU7kIZhRgSbhHvFoy72w\n",
            "        please hit [Enter]\n",
            "        \n",
            "        Else [ctrl+c] script and check for other `channel_id` options in:\n",
            "        youtube_captions_corrections/data/channels/Hugging_Face.json\n",
            "        \n",
            "requesting data for youtube_captions_corrections/data/playlists/Hugging_Face.json\n",
            "requesting data for youtube_captions_corrections/data/videos/Hugging_Face.json\n",
            "requesting data for youtube_captions_corrections/data/transcripts/en/raw_transcripts/Hugging_Face.json\n",
            "requesting data for youtube_captions_corrections/data/transcripts/en/labeled_transcripts/Hugging_Face.json\n"
          ]
        }
      ]
    },
    {
      "cell_type": "code",
      "source": [
        "!ls youtube_captions_corrections/data/transcripts/en/labeled_transcripts\n"
      ],
      "metadata": {
        "colab": {
          "base_uri": "https://localhost:8080/"
        },
        "id": "TkfFYwo6NHbX",
        "outputId": "9bb6200d-88c8-48f6-f989-759eb4479224"
      },
      "execution_count": null,
      "outputs": [
        {
          "output_type": "stream",
          "name": "stdout",
          "text": [
            " 3Blue1Brown.json\t Jeremy_Howard.json   TED.json\n",
            " Alfredo_Canziani.json\t Luis_Serrano.json    Veritasium.json\n",
            " Aurélien_Géron.json\t minutephysics.json  'Weights_&_Biases.json'\n",
            " DeepMind.json\t\t nature_video.json\n",
            " Hugging_Face.json\t Pieter_Abbeel.json\n"
          ]
        }
      ]
    },
    {
      "cell_type": "code",
      "source": [
        ""
      ],
      "metadata": {
        "id": "_-YuUNyxXuB2"
      },
      "execution_count": null,
      "outputs": []
    }
  ]
}